{
  "nbformat": 4,
  "nbformat_minor": 0,
  "metadata": {
    "colab": {
      "provenance": [],
      "gpuType": "T4",
      "include_colab_link": true
    },
    "kernelspec": {
      "name": "python3",
      "display_name": "Python 3"
    },
    "language_info": {
      "name": "python"
    },
    "accelerator": "GPU"
  },
  "cells": [
    {
      "cell_type": "markdown",
      "metadata": {
        "id": "view-in-github",
        "colab_type": "text"
      },
      "source": [
        "<a href=\"https://colab.research.google.com/github/SDineshKumar1304/Dinesh-kumar-S-Work/blob/main/Emoreco.ipynb\" target=\"_parent\"><img src=\"https://colab.research.google.com/assets/colab-badge.svg\" alt=\"Open In Colab\"/></a>"
      ]
    },
    {
      "cell_type": "code",
      "execution_count": 1,
      "metadata": {
        "colab": {
          "base_uri": "https://localhost:8080/"
        },
        "id": "CShA6QdJbNQh",
        "outputId": "1518e3dc-0362-4a37-b805-fb5a69c941c0"
      },
      "outputs": [
        {
          "output_type": "stream",
          "name": "stdout",
          "text": [
            "Requirement already satisfied: opencv-python in /usr/local/lib/python3.10/dist-packages (4.8.0.76)\n",
            "Requirement already satisfied: opencv-python-headless in /usr/local/lib/python3.10/dist-packages (4.8.1.78)\n",
            "Requirement already satisfied: numpy>=1.21.2 in /usr/local/lib/python3.10/dist-packages (from opencv-python) (1.23.5)\n"
          ]
        }
      ],
      "source": [
        "pip install opencv-python opencv-python-headless"
      ]
    },
    {
      "cell_type": "code",
      "source": [
        "pip install pygame"
      ],
      "metadata": {
        "colab": {
          "base_uri": "https://localhost:8080/"
        },
        "id": "diWNSE_Db3Ev",
        "outputId": "94bc06a8-1cee-42e5-dec3-6c9c8d7aab9c"
      },
      "execution_count": 2,
      "outputs": [
        {
          "output_type": "stream",
          "name": "stdout",
          "text": [
            "Requirement already satisfied: pygame in /usr/local/lib/python3.10/dist-packages (2.5.2)\n"
          ]
        }
      ]
    },
    {
      "cell_type": "code",
      "source": [
        "from google.colab import drive\n",
        "drive.mount('/content/drive')"
      ],
      "metadata": {
        "colab": {
          "base_uri": "https://localhost:8080/"
        },
        "id": "Ob2hohNtanwn",
        "outputId": "33ec80d6-bf49-4105-c273-8fd216fe3aef"
      },
      "execution_count": 3,
      "outputs": [
        {
          "output_type": "stream",
          "name": "stdout",
          "text": [
            "Mounted at /content/drive\n"
          ]
        }
      ]
    },
    {
      "cell_type": "code",
      "source": [
        "pip install spotipy"
      ],
      "metadata": {
        "colab": {
          "base_uri": "https://localhost:8080/"
        },
        "id": "xJ91ir61b3fU",
        "outputId": "acd99dce-1833-4455-ce11-c5c0c69141a5"
      },
      "execution_count": 4,
      "outputs": [
        {
          "output_type": "stream",
          "name": "stdout",
          "text": [
            "Collecting spotipy\n",
            "  Downloading spotipy-2.23.0-py3-none-any.whl (29 kB)\n",
            "Collecting redis>=3.5.3 (from spotipy)\n",
            "  Downloading redis-5.0.1-py3-none-any.whl (250 kB)\n",
            "\u001b[2K     \u001b[90m━━━━━━━━━━━━━━━━━━━━━━━━━━━━━━━━━━━━━━━\u001b[0m \u001b[32m250.3/250.3 kB\u001b[0m \u001b[31m6.8 MB/s\u001b[0m eta \u001b[36m0:00:00\u001b[0m\n",
            "\u001b[?25hRequirement already satisfied: requests>=2.25.0 in /usr/local/lib/python3.10/dist-packages (from spotipy) (2.31.0)\n",
            "Requirement already satisfied: six>=1.15.0 in /usr/local/lib/python3.10/dist-packages (from spotipy) (1.16.0)\n",
            "Requirement already satisfied: urllib3>=1.26.0 in /usr/local/lib/python3.10/dist-packages (from spotipy) (2.0.6)\n",
            "Requirement already satisfied: async-timeout>=4.0.2 in /usr/local/lib/python3.10/dist-packages (from redis>=3.5.3->spotipy) (4.0.3)\n",
            "Requirement already satisfied: charset-normalizer<4,>=2 in /usr/local/lib/python3.10/dist-packages (from requests>=2.25.0->spotipy) (3.3.0)\n",
            "Requirement already satisfied: idna<4,>=2.5 in /usr/local/lib/python3.10/dist-packages (from requests>=2.25.0->spotipy) (3.4)\n",
            "Requirement already satisfied: certifi>=2017.4.17 in /usr/local/lib/python3.10/dist-packages (from requests>=2.25.0->spotipy) (2023.7.22)\n",
            "Installing collected packages: redis, spotipy\n",
            "Successfully installed redis-5.0.1 spotipy-2.23.0\n"
          ]
        }
      ]
    },
    {
      "cell_type": "code",
      "source": [
        "pip install pytube\n"
      ],
      "metadata": {
        "colab": {
          "base_uri": "https://localhost:8080/"
        },
        "id": "iNGJ8ddehpZ0",
        "outputId": "97a59697-2d7e-491c-e3eb-6aebbb1e021d"
      },
      "execution_count": 5,
      "outputs": [
        {
          "output_type": "stream",
          "name": "stdout",
          "text": [
            "Collecting pytube\n",
            "  Downloading pytube-15.0.0-py3-none-any.whl (57 kB)\n",
            "\u001b[?25l     \u001b[90m━━━━━━━━━━━━━━━━━━━━━━━━━━━━━━━━━━━━━━━━\u001b[0m \u001b[32m0.0/57.6 kB\u001b[0m \u001b[31m?\u001b[0m eta \u001b[36m-:--:--\u001b[0m\r\u001b[2K     \u001b[90m━━━━━━━━━━━━━━━━━━━━━━━━━━━━━━━━━━━━━━━━\u001b[0m \u001b[32m57.6/57.6 kB\u001b[0m \u001b[31m1.5 MB/s\u001b[0m eta \u001b[36m0:00:00\u001b[0m\n",
            "\u001b[?25hInstalling collected packages: pytube\n",
            "Successfully installed pytube-15.0.0\n"
          ]
        }
      ]
    },
    {
      "cell_type": "code",
      "source": [
        "pip install youtube_search"
      ],
      "metadata": {
        "colab": {
          "base_uri": "https://localhost:8080/"
        },
        "id": "RFUX2QickWft",
        "outputId": "fc3fd0f1-d3a9-4052-b4b1-089f7722eeec"
      },
      "execution_count": 6,
      "outputs": [
        {
          "output_type": "stream",
          "name": "stdout",
          "text": [
            "Collecting youtube_search\n",
            "  Downloading youtube_search-2.1.2-py3-none-any.whl (3.4 kB)\n",
            "Requirement already satisfied: requests in /usr/local/lib/python3.10/dist-packages (from youtube_search) (2.31.0)\n",
            "Requirement already satisfied: charset-normalizer<4,>=2 in /usr/local/lib/python3.10/dist-packages (from requests->youtube_search) (3.3.0)\n",
            "Requirement already satisfied: idna<4,>=2.5 in /usr/local/lib/python3.10/dist-packages (from requests->youtube_search) (3.4)\n",
            "Requirement already satisfied: urllib3<3,>=1.21.1 in /usr/local/lib/python3.10/dist-packages (from requests->youtube_search) (2.0.6)\n",
            "Requirement already satisfied: certifi>=2017.4.17 in /usr/local/lib/python3.10/dist-packages (from requests->youtube_search) (2023.7.22)\n",
            "Installing collected packages: youtube_search\n",
            "Successfully installed youtube_search-2.1.2\n"
          ]
        }
      ]
    },
    {
      "cell_type": "markdown",
      "source": [
        "# **Importing Necessary Libraries**"
      ],
      "metadata": {
        "id": "FJ5DO9E8YwIU"
      }
    },
    {
      "cell_type": "code",
      "source": [
        "import cv2\n",
        "import numpy as np\n",
        "import tensorflow as tf\n",
        "from youtube_search import YoutubeSearch\n",
        "import webbrowser\n",
        "import os"
      ],
      "metadata": {
        "id": "Z3wxpfVNb6cn"
      },
      "execution_count": 7,
      "outputs": []
    },
    {
      "cell_type": "markdown",
      "source": [
        "# **Load the trained emotion recognition model using CNN and SOFT-MARGIN SVM:**"
      ],
      "metadata": {
        "id": "is946DD0Y68f"
      }
    },
    {
      "cell_type": "code",
      "source": [
        "model = tf.keras.models.load_model(\"/content/emotion_model.hdf5\")"
      ],
      "metadata": {
        "id": "pvgVU5LtY3Xe",
        "colab": {
          "base_uri": "https://localhost:8080/"
        },
        "outputId": "faf63f8c-0340-4c95-c129-82333fdd341a"
      },
      "execution_count": 8,
      "outputs": [
        {
          "output_type": "stream",
          "name": "stderr",
          "text": [
            "WARNING:tensorflow:Error in loading the saved optimizer state. As a result, your model is starting with a freshly initialized optimizer.\n"
          ]
        }
      ]
    },
    {
      "cell_type": "markdown",
      "source": [
        "# **Define emotion labels**"
      ],
      "metadata": {
        "id": "8keQ9j9hZFF8"
      }
    },
    {
      "cell_type": "code",
      "source": [
        "emotion_labels = ['Angry', 'Disgust', 'Fear', 'Happy', 'Sad', 'Surprise', 'Neutral']\n"
      ],
      "metadata": {
        "id": "INAN0uhaZAJy"
      },
      "execution_count": 9,
      "outputs": []
    },
    {
      "cell_type": "markdown",
      "source": [
        "# **Defining  the Emotiion Recognition Function**"
      ],
      "metadata": {
        "id": "RQGVpqR3ZKT-"
      }
    },
    {
      "cell_type": "code",
      "source": [
        "def recognize_emotion(image_path):\n",
        "    image = cv2.imread(image_path)\n",
        "    gray = cv2.cvtColor(image, cv2.COLOR_BGR2GRAY)\n",
        "    resized_image = cv2.resize(gray, (64, 64))  # Resize the image to (64, 64)\n",
        "    normalized_image = resized_image / 255.0\n",
        "    input_data = np.expand_dims(normalized_image, axis=0)\n",
        "    emotion_scores = model.predict(input_data)\n",
        "    emotion_index = np.argmax(emotion_scores)\n",
        "    emotion = emotion_labels[emotion_index]\n",
        "    return emotion"
      ],
      "metadata": {
        "id": "tjbxDjN0ZJQ9"
      },
      "execution_count": 10,
      "outputs": []
    },
    {
      "cell_type": "markdown",
      "source": [
        "# **Defining the Function for Recommending Songs from Youtube**"
      ],
      "metadata": {
        "id": "oznGcHFlZW-W"
      }
    },
    {
      "cell_type": "code",
      "source": [
        "\n",
        "def recommend_songs(emotion):\n",
        "    emotion_keywords = {\n",
        "        \"Happy\": \"Happy songs playlist\",\n",
        "        \"Sad\": \"Sad songs playlist\",\n",
        "        \"Angry\": \"Angry songs playlist\",\n",
        "        \"Surprise\": \"Surprise songs playlist\",\n",
        "        \"Fear\": \"Fear songs playlist\",\n",
        "        \"Disgust\": \"Disgust songs playlist\",\n",
        "        \"Neutral\": \"Neutral songs playlist\",\n",
        "    }\n",
        "\n",
        "    search_keywords = emotion_keywords.get(emotion, \"Music playlist\")\n",
        "    results = YoutubeSearch(search_keywords, max_results=3).to_dict()\n",
        "\n",
        "    recommended_songs = []\n",
        "    for result in results:\n",
        "        video_url = f\"https://www.youtube.com/watch?v={result['id']}\"\n",
        "        recommended_songs.append((result['title'], video_url))\n",
        "\n",
        "    return recommended_songs"
      ],
      "metadata": {
        "id": "qZQwBO5EZV9k"
      },
      "execution_count": 11,
      "outputs": []
    },
    {
      "cell_type": "markdown",
      "source": [
        "# **Main Function**"
      ],
      "metadata": {
        "id": "RsPF68J5Z9ui"
      }
    },
    {
      "cell_type": "code",
      "source": [
        "if __name__ == \"__main__\":\n",
        "    # Image path for emotion recognition (replace with your image)\n",
        "    image_path = \"/content/image 7.jpg\"\n",
        "\n",
        "    # Recognize the user's emotion\n",
        "    user_emotion = recognize_emotion(image_path)\n",
        "    print(f\"Emotion detected: {user_emotion}\")\n",
        "\n",
        "    # Recommend songs based on the user's emotion\n",
        "    print(f\"Recommended Songs for {user_emotion} Emotion:\")\n",
        "    recommended_songs = recommend_songs(user_emotion)\n",
        "    for idx, (song_title, video_url) in enumerate(recommended_songs, start=1):\n",
        "        print(f\"{idx}. {song_title} - {video_url}\")"
      ],
      "metadata": {
        "id": "GxbWK3ufZ85I",
        "colab": {
          "base_uri": "https://localhost:8080/"
        },
        "outputId": "3160ca50-ac52-41c7-efaa-15982dc2abc9"
      },
      "execution_count": 13,
      "outputs": [
        {
          "output_type": "stream",
          "name": "stdout",
          "text": [
            "1/1 [==============================] - 0s 138ms/step\n",
            "Emotion detected: Disgust\n",
            "Recommended Songs for Disgust Emotion:\n",
            "1. 💗 𝗜 𝗙𝗘𝗘𝗟 𝗦𝗢 𝗗𝗜𝗦𝗚𝗨𝗦𝗧𝗘𝗗　 // a hypers3xu4l vent playlist. - https://www.youtube.com/watch?v=0YuQ8hq_Lwg\n",
            "2. haha insecurities || playlist - https://www.youtube.com/watch?v=BlAkd4QyGB4\n",
            "3. Disgusted - https://www.youtube.com/watch?v=u9EcuZJM2Zw\n"
          ]
        }
      ]
    },
    {
      "cell_type": "code",
      "source": [],
      "metadata": {
        "id": "uX_4BGSPbKzt"
      },
      "execution_count": null,
      "outputs": []
    }
  ]
}