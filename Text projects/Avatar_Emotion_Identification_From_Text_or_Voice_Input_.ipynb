{
  "nbformat": 4,
  "nbformat_minor": 0,
  "metadata": {
    "colab": {
      "provenance": []
    },
    "kernelspec": {
      "name": "python3",
      "display_name": "Python 3"
    },
    "language_info": {
      "name": "python"
    }
  },
  "cells": [
    {
      "cell_type": "markdown",
      "source": [
        "# **Step 1: Importing Libraries**\n",
        "Here, we import two essential libraries. speech_recognition is used for speech recognition, and transformers.pipeline is used to load the \"EmoRoBERTa\" model for sentiment analysis."
      ],
      "metadata": {
        "id": "aYRJHVt6BjNp"
      }
    },
    {
      "cell_type": "code",
      "source": [
        "# Import necessary libraries\n",
        "import speech_recognition as sr  # Import the SpeechRecognition library\n",
        "from transformers import pipeline  # Import the Hugging Face Transformers library for NLP tasks\n"
      ],
      "metadata": {
        "id": "KESU8Xz1_ESY"
      },
      "execution_count": null,
      "outputs": []
    },
    {
      "cell_type": "markdown",
      "source": [
        "# **Step 2: Create a Recognizer Object**\n",
        "We create a Recognizer object named r, which is used to recognize speech input."
      ],
      "metadata": {
        "id": "x-tx7mt8BtjH"
      }
    },
    {
      "cell_type": "code",
      "source": [
        "# Create a recognizer object for speech recognition\n",
        "r = sr.Recognizer()\n"
      ],
      "metadata": {
        "id": "vifjc3Ud_Ekq"
      },
      "execution_count": null,
      "outputs": []
    },
    {
      "cell_type": "markdown",
      "source": [
        "# **Step 3: Initialize Sentiment Analysis Pipeline**\n",
        "We create an emotion pipeline using the \"sentiment-analysis\" task and the \"EmoRoBERTa\" model. This pipeline will be used to analyze the sentiment or emotion in text.\n"
      ],
      "metadata": {
        "id": "jAu8h0cqB28m"
      }
    },
    {
      "cell_type": "code",
      "source": [
        "# Initialize a sentiment analysis pipeline using the \"EmoRoBERTa\" model\n",
        "emotion = pipeline('sentiment-analysis', model='arpanghoshal/EmoRoBERTa')\n"
      ],
      "metadata": {
        "id": "dn79mJUp_Env"
      },
      "execution_count": null,
      "outputs": []
    },
    {
      "cell_type": "markdown",
      "source": [
        "# **Step 4: Define the Function for Emotion Analysis**\n",
        "We define a function called analyze_emotion_from_speech() that encapsulates the entire process of emotion analysis.\n",
        "\n",
        "1. This section displays a menu to the user, allowing them to choose between two options: speaking a sentence (option 1) or entering text manually (option 2).\n",
        "\n",
        "2. If the user chooses option 1, the code captures audio input from the microphone, recognizes the speech using Google's speech recognition, and then analyzes the emotion in the recognized text using the \"EmoRoBERTa\" model.\n",
        "\n",
        "3. If the user chooses option 2, the code prompts the user to enter a sentence manually, and then it analyzes the emotion in the entered text using the \"EmoRoBERTa\" model.\n",
        "\n",
        "4. If the user enters an invalid choice (neither 1 nor 2), the code prints an error message.\n",
        "\n",
        "5. Finally, the script calls the analyze_emotion_from_speech() function to initiate the emotion analysis process based on the user's choice from the menu."
      ],
      "metadata": {
        "id": "rVrDbQglCIHr"
      }
    },
    {
      "cell_type": "code",
      "source": [
        "def analyze_emotion_from_speech():\n",
        "    # Display menu options to the user\n",
        "    print(\"Choose an option:\")\n",
        "    print(\"1. Speak a sentence\")\n",
        "    print(\"2. Enter text input\")\n",
        "    choice = input(\"Enter your choice (1 or 2): \")  # Prompt the user for their choice\n",
        "\n",
        "    if choice == \"1\":\n",
        "        # Option 1: Recognize speech from a microphone input\n",
        "        with sr.Microphone() as source:  # Use a microphone as the audio source\n",
        "            print(\"Speak a sentence:\")\n",
        "            audio = r.listen(source)  # Listen for audio input\n",
        "\n",
        "        try:\n",
        "            # Attempt to recognize the speech using Google's speech recognition\n",
        "            user_input = r.recognize_google(audio)  # Convert audio to text\n",
        "            print(\"Recognized text:\", user_input)  # Display the recognized text\n",
        "\n",
        "            # Analyze the emotion in the recognized text\n",
        "            emotion_labels = emotion(user_input)  # Use the EmoRoBERTa model\n",
        "            print(emotion_labels)  # Print the emotion analysis results\n",
        "        except sr.UnknownValueError:\n",
        "            print(\"Speech recognition could not understand audio.\")\n",
        "        except sr.RequestError as e:\n",
        "            print(\"Could not request results from speech recognition service; {0}\".format(e))\n",
        "\n",
        "    elif choice == \"2\":\n",
        "        # Option 2: Input text manually\n",
        "        user_input = input(\"Enter a sentence: \")  # Prompt the user to enter text\n",
        "        print(\"Input text:\", user_input)  # Display the manually entered text\n",
        "\n",
        "        # Analyze the emotion in the manually entered text\n",
        "        emotion_labels = emotion(user_input)  # Use the EmoRoBERTa model\n",
        "        print(emotion_labels)  # Print the emotion analysis results\n",
        "\n",
        "    else:\n",
        "        print(\"Invalid choice. Please choose option 1 or 2.\")  # Handle an invalid user choice\n",
        "\n",
        "# Call the function to start the emotion analysis process\n",
        "analyze_emotion_from_speech()"
      ],
      "metadata": {
        "id": "VGlBlfjG_E4c"
      },
      "execution_count": null,
      "outputs": []
    }
  ]
}